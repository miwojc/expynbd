{
 "cells": [
  {
   "cell_type": "code",
   "execution_count": 1,
   "metadata": {},
   "outputs": [],
   "source": [
    "#| default_exp robot_name"
   ]
  },
  {
   "cell_type": "markdown",
   "metadata": {},
   "source": [
    "# Robot name\n",
    "\n",
    "> An exercise from Exercism python track."
   ]
  },
  {
   "cell_type": "code",
   "execution_count": 2,
   "metadata": {},
   "outputs": [],
   "source": [
    "#| hide\n",
    "from fastcore.test import *\n",
    "from nbdev.showdoc import *"
   ]
  },
  {
   "cell_type": "markdown",
   "metadata": {
    "tags": []
   },
   "source": [
    "## Instructions"
   ]
  },
  {
   "cell_type": "markdown",
   "metadata": {
    "tags": []
   },
   "source": [
    "Manage robot factory settings.\n",
    "\n",
    "When a robot comes off the factory floor, it has no name.\n",
    "\n",
    "The first time you turn on a robot, a random name is generated in the format\n",
    "of two uppercase letters followed by three digits, such as RX837 or BC811.\n",
    "\n",
    "Every once in a while we need to reset a robot to its factory settings,\n",
    "which means that its name gets wiped. The next time you ask, that robot will\n",
    "respond with a new random name.\n",
    "\n",
    "The names must be random: they should not follow a predictable sequence.\n",
    "Using random names means a risk of collisions. Your solution must ensure that\n",
    "every existing robot has a unique name."
   ]
  },
  {
   "cell_type": "markdown",
   "metadata": {},
   "source": [
    "## Solution"
   ]
  },
  {
   "cell_type": "code",
   "execution_count": 3,
   "metadata": {},
   "outputs": [],
   "source": [
    "#| exports\n",
    "import datetime\n",
    "import random\n",
    "import string"
   ]
  },
  {
   "cell_type": "code",
   "execution_count": 7,
   "metadata": {},
   "outputs": [],
   "source": [
    "#|exports\n",
    "class Robot:\n",
    "    NAMES = []\n",
    "\n",
    "    def __init__(self):\n",
    "        self.name = Robot.valid_name()\n",
    "\n",
    "    reset = __init__\n",
    "\n",
    "    def __str__(self):\n",
    "        return f\"Robot name: {self.name}\"\n",
    "    \n",
    "    __repr__ = __str__\n",
    "\n",
    "    @staticmethod\n",
    "    def gen_name():\n",
    "        random.seed(datetime.datetime.now())\n",
    "        name = (\n",
    "            random.choice(string.ascii_uppercase)\n",
    "            + random.choice(string.ascii_uppercase)\n",
    "            + f\"{random.randint(0,999):03d}\"\n",
    "        )\n",
    "        return name\n",
    "\n",
    "    @staticmethod\n",
    "    def valid_name():\n",
    "        name = Robot.gen_name()\n",
    "        while name in Robot.NAMES:\n",
    "            name = Robot.gen_name()\n",
    "        Robot.NAMES.append(name)\n",
    "        return name"
   ]
  },
  {
   "cell_type": "code",
   "execution_count": 10,
   "metadata": {},
   "outputs": [],
   "source": [
    "#| hide\n",
    "from nbdev import nbdev_export\n",
    "nbdev_export()"
   ]
  },
  {
   "cell_type": "code",
   "execution_count": 11,
   "metadata": {},
   "outputs": [
    {
     "name": "stdout",
     "output_type": "stream",
     "text": [
      "\u001b[1m============================= test session starts ==============================\u001b[0m\n",
      "platform darwin -- Python 3.9.13, pytest-6.2.5, py-1.11.0, pluggy-1.0.0\n",
      "rootdir: /Users/mwojczulis/exercism/python/robot-name\n",
      "plugins: anyio-3.6.1, mock-3.6.1, hydra-core-1.1.1, cov-3.0.0\n",
      "collected 4 items                                                              \u001b[0m\n",
      "\n",
      "robot_name_test.py \u001b[32m.\u001b[0m\u001b[32m.\u001b[0m\u001b[32m.\u001b[0m\u001b[32m.\u001b[0m\u001b[33m                                                  [100%]\u001b[0m\n",
      "\n",
      "\u001b[33m=============================== warnings summary ===============================\u001b[0m\n",
      "robot_name_test.py::RobotNameTest::test_different_robots_have_different_names\n",
      "robot_name_test.py::RobotNameTest::test_different_robots_have_different_names\n",
      "robot_name_test.py::RobotNameTest::test_has_name\n",
      "robot_name_test.py::RobotNameTest::test_name_sticks\n",
      "robot_name_test.py::RobotNameTest::test_reset_name\n",
      "robot_name_test.py::RobotNameTest::test_reset_name\n",
      "  /Users/mwojczulis/exercism/python/robot-name/robot_name.py:27: DeprecationWarning: Seeding based on hashing is deprecated\n",
      "  since Python 3.9 and will be removed in a subsequent version. The only \n",
      "  supported seed types are: None, int, float, str, bytes, and bytearray.\n",
      "    random.seed(datetime.datetime.now())\n",
      "\n",
      "-- Docs: https://docs.pytest.org/en/stable/warnings.html\n",
      "\u001b[33m======================== \u001b[32m4 passed\u001b[0m, \u001b[33m\u001b[1m6 warnings\u001b[0m\u001b[33m in 0.04s\u001b[0m\u001b[33m =========================\u001b[0m\n"
     ]
    }
   ],
   "source": [
    "#| hide\n",
    "!cp ~/expynbd/expynbd/robot_name.py ~/exercism/python/robot-name/\n",
    "!cd ~/exercism/python/robot-name/ && pytest"
   ]
  },
  {
   "cell_type": "code",
   "execution_count": null,
   "metadata": {},
   "outputs": [],
   "source": []
  },
  {
   "cell_type": "code",
   "execution_count": null,
   "metadata": {},
   "outputs": [],
   "source": []
  }
 ],
 "metadata": {
  "kernelspec": {
   "display_name": "Python 3 (ipykernel)",
   "language": "python",
   "name": "python3"
  },
  "language_info": {
   "codemirror_mode": {
    "name": "ipython",
    "version": 3
   },
   "file_extension": ".py",
   "mimetype": "text/x-python",
   "name": "python",
   "nbconvert_exporter": "python",
   "pygments_lexer": "ipython3",
   "version": "3.9.13"
  }
 },
 "nbformat": 4,
 "nbformat_minor": 4
}
